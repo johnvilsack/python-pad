{
 "cells": [
  {
   "cell_type": "code",
   "execution_count": 17,
   "metadata": {},
   "outputs": [],
   "source": [
    "import json\n",
    "file = input('Insert Filename')\n",
    "\n",
    "with open('./data/'+file, 'r') as f:\n",
    "  LIST = f.read().split('\\n')\n",
    "f.close()\n",
    "\n",
    "nameFile = file.split('.')[0]\n",
    "\n",
    "f = open('./data/'+nameFile+'.json', 'w')\n",
    "f.write(json.dumps(LIST))\n",
    "f.close()"
   ]
  }
 ],
 "metadata": {
  "kernelspec": {
   "display_name": "Python 3.9.12 ('base')",
   "language": "python",
   "name": "python3"
  },
  "language_info": {
   "codemirror_mode": {
    "name": "ipython",
    "version": 3
   },
   "file_extension": ".py",
   "mimetype": "text/x-python",
   "name": "python",
   "nbconvert_exporter": "python",
   "pygments_lexer": "ipython3",
   "version": "3.9.12"
  },
  "orig_nbformat": 4,
  "vscode": {
   "interpreter": {
    "hash": "c5e883e7997fa9319a3e29d57deaf4a1c0fb2d9724297243de68d6a7cf16076a"
   }
  }
 },
 "nbformat": 4,
 "nbformat_minor": 2
}
