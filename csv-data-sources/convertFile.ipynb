{
 "cells": [
  {
   "cell_type": "code",
   "execution_count": 5,
   "metadata": {},
   "outputs": [
    {
     "ename": "FileNotFoundError",
     "evalue": "[Errno 2] No such file or directory: './data/grant.json'",
     "output_type": "error",
     "traceback": [
      "\u001b[1;31m---------------------------------------------------------------------------\u001b[0m",
      "\u001b[1;31mFileNotFoundError\u001b[0m                         Traceback (most recent call last)",
      "\u001b[1;32md:\\Projects\\pad\\csv-data-sources\\convertFile.ipynb Cell 1'\u001b[0m in \u001b[0;36m<cell line: 9>\u001b[1;34m()\u001b[0m\n\u001b[0;32m      <a href='vscode-notebook-cell:/d%3A/Projects/pad/csv-data-sources/convertFile.ipynb#ch0000000?line=4'>5</a>\u001b[0m f\u001b[39m.\u001b[39mclose()\n\u001b[0;32m      <a href='vscode-notebook-cell:/d%3A/Projects/pad/csv-data-sources/convertFile.ipynb#ch0000000?line=6'>7</a>\u001b[0m nameFile \u001b[39m=\u001b[39m file\u001b[39m.\u001b[39msplit(\u001b[39m'\u001b[39m\u001b[39m.\u001b[39m\u001b[39m'\u001b[39m)[\u001b[39m0\u001b[39m]\n\u001b[1;32m----> <a href='vscode-notebook-cell:/d%3A/Projects/pad/csv-data-sources/convertFile.ipynb#ch0000000?line=8'>9</a>\u001b[0m f \u001b[39m=\u001b[39m \u001b[39mopen\u001b[39;49m(\u001b[39m'\u001b[39;49m\u001b[39m./data/\u001b[39;49m\u001b[39m'\u001b[39;49m\u001b[39m+\u001b[39;49mnameFile\u001b[39m+\u001b[39;49m\u001b[39m'\u001b[39;49m\u001b[39m.json\u001b[39;49m\u001b[39m'\u001b[39;49m, \u001b[39m'\u001b[39;49m\u001b[39mw\u001b[39;49m\u001b[39m'\u001b[39;49m)\n\u001b[0;32m     <a href='vscode-notebook-cell:/d%3A/Projects/pad/csv-data-sources/convertFile.ipynb#ch0000000?line=9'>10</a>\u001b[0m f\u001b[39m.\u001b[39mwrite(json\u001b[39m.\u001b[39mdumps(LIST))\n\u001b[0;32m     <a href='vscode-notebook-cell:/d%3A/Projects/pad/csv-data-sources/convertFile.ipynb#ch0000000?line=10'>11</a>\u001b[0m f\u001b[39m.\u001b[39mclose()\n",
      "\u001b[1;31mFileNotFoundError\u001b[0m: [Errno 2] No such file or directory: './data/grant.json'"
     ]
    }
   ],
   "source": [
    "import json\n",
    "\n",
    "with open('grant.csv', 'r') as f:\n",
    "  LIST = f.read().split('\\n')\n",
    "f.close()\n",
    "\n",
    "nameFile = file.split('.')[0]\n",
    "\n",
    "f = open('../data/'+nameFile+'.json', 'w')\n",
    "f.write(json.dumps(LIST))\n",
    "f.close()"
   ]
  }
 ],
 "metadata": {
  "kernelspec": {
   "display_name": "Python 3.9.12 ('base')",
   "language": "python",
   "name": "python3"
  },
  "language_info": {
   "codemirror_mode": {
    "name": "ipython",
    "version": 3
   },
   "file_extension": ".py",
   "mimetype": "text/x-python",
   "name": "python",
   "nbconvert_exporter": "python",
   "pygments_lexer": "ipython3",
   "version": "3.9.12"
  },
  "orig_nbformat": 4,
  "vscode": {
   "interpreter": {
    "hash": "c5e883e7997fa9319a3e29d57deaf4a1c0fb2d9724297243de68d6a7cf16076a"
   }
  }
 },
 "nbformat": 4,
 "nbformat_minor": 2
}
