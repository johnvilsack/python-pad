{
 "cells": [
  {
   "cell_type": "code",
   "execution_count": 60,
   "metadata": {},
   "outputs": [],
   "source": [
    "import sys, string, itertools, random\n",
    "\n",
    "GRIDCOLS = 27\n",
    "GRIDROWS = 9\n",
    "GRIDSEED = 8675309\n",
    "ALPHA = string.ascii_uppercase"
   ]
  },
  {
   "cell_type": "code",
   "execution_count": 61,
   "metadata": {},
   "outputs": [],
   "source": [
    "WORDLIST = []\n",
    "with open('./data/250-gijoes.csv', 'r') as f:\n",
    "  for word in f:\n",
    "    WORDLIST.append(f.readline().strip())"
   ]
  },
  {
   "cell_type": "code",
   "execution_count": 62,
   "metadata": {},
   "outputs": [
    {
     "name": "stdout",
     "output_type": "stream",
     "text": [
      "Not enough values to populate expected grid\n"
     ]
    }
   ],
   "source": [
    "CELLS = GRIDCOLS * GRIDROWS\n",
    "WORDCOUNT = len(WORDLIST)\n",
    "\n",
    "if ((WORDCOUNT) < CELLS):\n",
    "  print('Not enough values to populate expected grid')\n",
    "\n",
    "    "
   ]
  },
  {
   "cell_type": "code",
   "execution_count": 63,
   "metadata": {},
   "outputs": [
    {
     "name": "stdout",
     "output_type": "stream",
     "text": [
      "['AA', 'AB', 'AC', 'AD', 'AE', 'AF', 'AG', 'AH', 'AI', 'AJ', 'AK', 'AL', 'AM', 'AN', 'AO', 'AP', 'AQ', 'AR', 'AS', 'AT', 'AU', 'AV', 'AW', 'AX', 'AY', 'AZ', 'BA']\n"
     ]
    }
   ],
   "source": [
    "# Make alphanumeric columns\n",
    "def makeAlphaColumns(GRIDCOLS):\n",
    "  iter = GRIDCOLS // 26 + 1\n",
    "  prod = itertools.product(string.ascii_uppercase, repeat=iter)\n",
    "  result = []\n",
    "  for values in prod:\n",
    "    result.append(''.join(values))\n",
    "  \n",
    "  columns = []\n",
    "  i = 0\n",
    "  while i in range(GRIDCOLS):\n",
    "    columns.append(result[i])\n",
    "    i += 1\n",
    "  return columns\n",
    "\n",
    "COLUMNS = makeAlphaColumns(GRIDCOLS)\n",
    "print(COLUMNS)"
   ]
  },
  {
   "cell_type": "code",
   "execution_count": 64,
   "metadata": {},
   "outputs": [
    {
     "name": "stdout",
     "output_type": "stream",
     "text": [
      "['Clutch', 'GrandSlam', 'Hawk', 'Scarlett', 'SnakeEyes', 'Steeler', 'Ace', 'CoverGirl', 'Duke', 'SnowJob', 'Tripwire', 'Blowtorch', 'DeepSix', 'Recondo', 'Roadblock', 'Freedom', 'Airtight', 'Barbecue', 'Crankcase', 'Flint', 'Frostbite', 'KeelHaul', 'QuickKick', 'Shipwreck', 'BeachHead', 'CrossCountry', 'TheFridge', 'Leatherneck', 'LiftTicket', 'Mainframe', 'SlipStream', 'Avalanche', 'Blaster', 'Chuckles', 'Dodger', 'Hardtop', 'Knockdown', 'Falcon', 'Mercer', 'Payload', 'RedDog', 'SneakPeek', 'SteamRoller', 'TunnelRat', 'Blizzard', 'Charbroil', 'Hardball', 'Lightfoot', 'Repeater', 'Skidmark', 'Spearhead', 'SuperTrooper', 'Windmill', 'Countdown', 'Dogfight', 'HotSeat', 'Recoil', 'Windchill', 'Airwave', 'Ambush', 'CaptGridIron', 'DropZone', 'MajorStorm', 'Rampart', 'Salvo', 'StaticLine', 'SubZero', 'Updraft', 'CleanSweep', 'HeavyDuty', 'Ozone', 'Tracker', 'BulletProof', 'GeneralFlagg', 'Banzai', 'Bushido', 'LongArm', 'RoboJoe', 'Gears', 'SpaceShot', 'CobraCommander', 'ViperPilot', 'Copperhead', 'ScrapIron', 'WildWeasel', 'Lamprey', 'TeleVipers', 'Xamot', 'DoctorMindbender', 'Viper', 'CrocMaster', 'Golobulus', 'RoyalGuard', 'TechnoViper', 'NightCreeper', 'Vapor', 'Immortal', 'Incinerators', 'NightVulture', 'SkyCreeper', 'CobraAirDevil', 'FlakViper', 'Headman', 'NinjaViper', 'ToxoZombie', 'CyberVipers', 'RedNinjas', 'Lobotomaxx', 'SubViper', 'CobraCLAWS', 'Carcass', 'NeoViperCommander', 'BlackDragon', 'Scalpel', 'COILCrusher', 'GhostBear', 'RazorTrooper', 'SandScorpion', 'SwampRat', 'CobraMortal', 'CoilTrooper', 'GrimSkull', 'Hotwire', 'BlackMajor', 'RedTorches']\n"
     ]
    }
   ],
   "source": [
    "print(WORDLIST)"
   ]
  },
  {
   "cell_type": "code",
   "execution_count": 65,
   "metadata": {},
   "outputs": [
    {
     "name": "stdout",
     "output_type": "stream",
     "text": [
      "['DoctorMindbender', 'Lamprey', 'BulletProof', 'Tripwire', 'Duke', 'SuperTrooper', 'CrossCountry', 'Skidmark', 'DeepSix', 'BlackMajor', 'SneakPeek', 'Avalanche', 'SnowJob', 'Leatherneck', 'SnakeEyes', 'CobraCLAWS', 'Steeler', 'Hardball', 'Chuckles', 'Recondo', 'Updraft', 'Crankcase', 'Frostbite', 'Blowtorch', 'Rampart', 'LiftTicket', 'TheFridge', 'Knockdown', 'Blaster', 'CobraCommander', 'NinjaViper', 'Blizzard', 'WildWeasel', 'Dodger', 'SteamRoller', 'DropZone', 'RedNinjas', 'FlakViper', 'Copperhead', 'Gears', 'Spearhead', 'CoilTrooper', 'Windchill', 'Countdown', 'Recoil', 'Ace', 'Ambush', 'COILCrusher', 'CrocMaster', 'ToxoZombie', 'CobraMortal', 'GrimSkull', 'Lobotomaxx', 'Dogfight', 'RoboJoe', 'Vapor', 'Incinerators', 'Mercer', 'Banzai', 'RazorTrooper', 'Scalpel', 'NightCreeper', 'Tracker', 'Barbecue', 'CaptGridIron', 'KeelHaul', 'Clutch', 'SpaceShot', 'CobraAirDevil', 'RedTorches', 'Flint', 'SubViper', 'Bushido', 'Ozone', 'SlipStream', 'TeleVipers', 'SubZero', 'Golobulus', 'Immortal', 'RoyalGuard', 'CyberVipers', 'Repeater', 'Hardtop', 'SandScorpion', 'GhostBear', 'StaticLine', 'Xamot', 'Scarlett', 'SwampRat', 'Headman', 'BeachHead', 'TechnoViper', 'NightVulture', 'CleanSweep', 'MajorStorm', 'ViperPilot', 'GeneralFlagg', 'CoverGirl', 'HeavyDuty', 'Hawk', 'Hotwire', 'Salvo', 'HotSeat', 'Mainframe', 'GrandSlam', 'Charbroil', 'Airtight', 'QuickKick', 'Airwave', 'Falcon', 'Carcass', 'NeoViperCommander', 'TunnelRat', 'Payload', 'Shipwreck', 'SkyCreeper', 'RedDog', 'Roadblock', 'Windmill', 'Freedom', 'Viper', 'Lightfoot', 'BlackDragon', 'LongArm', 'ScrapIron']\n"
     ]
    }
   ],
   "source": [
    "# Randomize wordlist\n",
    "random.seed(GRIDSEED)\n",
    "random.seed(random.getrandbits(128))\n",
    "random.shuffle(WORDLIST)\n",
    "print(WORDLIST)"
   ]
  },
  {
   "cell_type": "code",
   "execution_count": 66,
   "metadata": {},
   "outputs": [
    {
     "ename": "IndexError",
     "evalue": "list index out of range",
     "output_type": "error",
     "traceback": [
      "\u001b[1;31m---------------------------------------------------------------------------\u001b[0m",
      "\u001b[1;31mIndexError\u001b[0m                                Traceback (most recent call last)",
      "\u001b[1;32md:\\Projects\\pad\\notebook.ipynb Cell 7'\u001b[0m in \u001b[0;36m<cell line: 13>\u001b[1;34m()\u001b[0m\n\u001b[0;32m     <a href='vscode-notebook-cell:/d%3A/Projects/pad/notebook.ipynb#ch0000005?line=12'>13</a>\u001b[0m \u001b[39mwhile\u001b[39;00m rec \u001b[39min\u001b[39;00m \u001b[39mrange\u001b[39m(\u001b[39m0\u001b[39m,cellcount):\n\u001b[0;32m     <a href='vscode-notebook-cell:/d%3A/Projects/pad/notebook.ipynb#ch0000005?line=13'>14</a>\u001b[0m   \u001b[39m#print(rec, col, COLUMNS[col-1]+str(row).zfill(2), WORDLIST[rec])\u001b[39;00m\n\u001b[0;32m     <a href='vscode-notebook-cell:/d%3A/Projects/pad/notebook.ipynb#ch0000005?line=14'>15</a>\u001b[0m   THISCELL \u001b[39m=\u001b[39m COLUMNS[col\u001b[39m-\u001b[39m\u001b[39m1\u001b[39m]\u001b[39m+\u001b[39m\u001b[39mstr\u001b[39m(row)\u001b[39m.\u001b[39mzfill(\u001b[39m2\u001b[39m)\n\u001b[0;32m     <a href='vscode-notebook-cell:/d%3A/Projects/pad/notebook.ipynb#ch0000005?line=15'>16</a>\u001b[0m   SHEET\u001b[39m.\u001b[39mupdate({rec : {\n\u001b[0;32m     <a href='vscode-notebook-cell:/d%3A/Projects/pad/notebook.ipynb#ch0000005?line=16'>17</a>\u001b[0m     \u001b[39m'\u001b[39m\u001b[39mLOCATION\u001b[39m\u001b[39m'\u001b[39m : THISCELL,\n\u001b[1;32m---> <a href='vscode-notebook-cell:/d%3A/Projects/pad/notebook.ipynb#ch0000005?line=17'>18</a>\u001b[0m     \u001b[39m'\u001b[39m\u001b[39mVALUE\u001b[39m\u001b[39m'\u001b[39m : WORDLIST[rec]\n\u001b[0;32m     <a href='vscode-notebook-cell:/d%3A/Projects/pad/notebook.ipynb#ch0000005?line=18'>19</a>\u001b[0m   }})\n\u001b[0;32m     <a href='vscode-notebook-cell:/d%3A/Projects/pad/notebook.ipynb#ch0000005?line=19'>20</a>\u001b[0m   output \u001b[39m=\u001b[39m \u001b[39m'\u001b[39m\u001b[39m<td>\u001b[39m\u001b[39m'\u001b[39m \u001b[39m+\u001b[39m THISCELL \u001b[39m+\u001b[39m \u001b[39m'\u001b[39m\u001b[39m \u001b[39m\u001b[39m'\u001b[39m \u001b[39m+\u001b[39m WORDLIST[rec] \u001b[39m+\u001b[39m \u001b[39m'\u001b[39m\u001b[39m</td>\u001b[39m\u001b[39m'\u001b[39m\n\u001b[0;32m     <a href='vscode-notebook-cell:/d%3A/Projects/pad/notebook.ipynb#ch0000005?line=20'>21</a>\u001b[0m   HTML\u001b[39m.\u001b[39mappend(output)\n",
      "\u001b[1;31mIndexError\u001b[0m: list index out of range"
     ]
    }
   ],
   "source": [
    "SHEET = {}\n",
    "\n",
    "col = 1\n",
    "rec = 0\n",
    "row = 1\n",
    "cellcount = GRIDCOLS * GRIDROWS\n",
    "HTML = []\n",
    "HTML.append('<table><tr>')\n",
    "while rec in range(0,cellcount):\n",
    "  #print(rec, col, COLUMNS[col-1]+str(row).zfill(2), WORDLIST[rec])\n",
    "  THISCELL = COLUMNS[col-1]+str(row).zfill(2)\n",
    "  SHEET.update({rec : {\n",
    "    'LOCATION' : THISCELL,\n",
    "    'VALUE' : WORDLIST[rec]\n",
    "  }})\n",
    "  output = '<td>' + THISCELL + ' ' + WORDLIST[rec] + '</td>'\n",
    "  HTML.append(output)\n",
    "  if col // GRIDCOLS == 0:\n",
    "    col += 1\n",
    "  else:\n",
    "    col = 1\n",
    "    row += 1\n",
    "    HTML.append('</tr><tr>')\n",
    "  rec += 1\n",
    "HTML.append('</tr></table>')\n",
    "\n",
    "print(SHEET)\n",
    "f = open('table.html', \"w\")\n",
    "for code in HTML:\n",
    "  f.write(code)\n",
    "f.close()\n",
    "  "
   ]
  },
  {
   "cell_type": "code",
   "execution_count": null,
   "metadata": {},
   "outputs": [],
   "source": []
  }
 ],
 "metadata": {
  "kernelspec": {
   "display_name": "Python 3.9.12 ('base')",
   "language": "python",
   "name": "python3"
  },
  "language_info": {
   "codemirror_mode": {
    "name": "ipython",
    "version": 3
   },
   "file_extension": ".py",
   "mimetype": "text/x-python",
   "name": "python",
   "nbconvert_exporter": "python",
   "pygments_lexer": "ipython3",
   "version": "3.9.12"
  },
  "orig_nbformat": 4,
  "vscode": {
   "interpreter": {
    "hash": "c5e883e7997fa9319a3e29d57deaf4a1c0fb2d9724297243de68d6a7cf16076a"
   }
  }
 },
 "nbformat": 4,
 "nbformat_minor": 2
}
