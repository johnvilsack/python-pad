{
 "cells": [
  {
   "cell_type": "code",
   "execution_count": 27,
   "metadata": {},
   "outputs": [],
   "source": [
    "import string, itertools, random, json\n",
    "\n",
    "GRIDCOLS = 10\n",
    "GRIDROWS = 10\n",
    "GRIDSEED = 8675309\n",
    "ALPHA = string.ascii_uppercase\n",
    "CELLS = GRIDCOLS * GRIDROWS"
   ]
  },
  {
   "cell_type": "code",
   "execution_count": 28,
   "metadata": {},
   "outputs": [
    {
     "name": "stdout",
     "output_type": "stream",
     "text": [
      "Wordlist Loaded 109130\n",
      "Starting Word: aahed\n",
      "Final Word: microminiaturizations\n"
     ]
    }
   ],
   "source": [
    "WORDLIST = []\n",
    "with open('./data/Crossword-MobyWord.csv', 'r') as f:\n",
    "  WORDLIST = f.read().split('\\n')\n",
    "print('Wordlist Loaded',len(WORDLIST))\n",
    "print('Starting Word:', WORDLIST[0])\n",
    "print('Final Word:', WORDLIST[(len(WORDLIST)-1)])"
   ]
  },
  {
   "cell_type": "code",
   "execution_count": 29,
   "metadata": {},
   "outputs": [
    {
     "name": "stdout",
     "output_type": "stream",
     "text": [
      "['A', 'B', 'C', 'D', 'E', 'F', 'G', 'H', 'I', 'J']\n"
     ]
    }
   ],
   "source": [
    "# Make alphanumeric columns\n",
    "def makeAlphaColumns(GRIDCOLS):\n",
    "  if (GRIDCOLS <= len(string.ascii_uppercase)):\n",
    "    prod = itertools.product(string.ascii_uppercase)\n",
    "  else:\n",
    "    repeatcols = (GRIDCOLS // len(string.ascii_uppercase)) + 1\n",
    "    prod = itertools.product(string.ascii_uppercase, repeat=repeatcols)\n",
    "  result = []\n",
    "  for values in prod:\n",
    "    result.append(''.join(values))\n",
    "  columns = []\n",
    "  i = 0\n",
    "  while i in range(GRIDCOLS):\n",
    "    columns.append(result[i])\n",
    "    i += 1\n",
    "  return columns\n",
    "\n",
    "COLUMNS = makeAlphaColumns(GRIDCOLS)\n",
    "print(COLUMNS)"
   ]
  },
  {
   "cell_type": "code",
   "execution_count": 30,
   "metadata": {},
   "outputs": [
    {
     "name": "stdout",
     "output_type": "stream",
     "text": [
      "Wordlist Shuffled\n",
      "New Starting Word: overacceptance\n",
      "New Final Word: subadults\n"
     ]
    }
   ],
   "source": [
    "# Randomize wordlist\n",
    "random.seed(GRIDSEED)\n",
    "random.seed(random.getrandbits(128))\n",
    "random.shuffle(WORDLIST)\n",
    "print('Wordlist Shuffled')\n",
    "print('New Starting Word:', WORDLIST[0])\n",
    "print('New Final Word:', WORDLIST[(len(WORDLIST)-1)])"
   ]
  },
  {
   "cell_type": "code",
   "execution_count": 31,
   "metadata": {},
   "outputs": [
    {
     "name": "stdout",
     "output_type": "stream",
     "text": [
      "Grid Populated\n"
     ]
    }
   ],
   "source": [
    "SHEET = {}\n",
    "\n",
    "currentWord = 0\n",
    "currentColumn = 1\n",
    "currentRow = 1\n",
    "\n",
    "GRID = []\n",
    "\n",
    "while currentWord in range(0,CELLS):\n",
    "  if (currentWord + 1) in range(0,len(WORDLIST)):\n",
    "      currentCell = COLUMNS[currentColumn - 1] + str(currentRow).zfill(2)\n",
    "      outputCell = currentCell + '::' + WORDLIST[currentWord]\n",
    "      GRID.append(outputCell)\n",
    "      if currentColumn // GRIDCOLS == 0:\n",
    "        currentColumn += 1\n",
    "      else:\n",
    "        currentColumn = 1\n",
    "        currentRow += 1\n",
    "      currentWord += 1\n",
    "  else:\n",
    "    break\n",
    "\n",
    "print('Grid Populated')"
   ]
  },
  {
   "cell_type": "code",
   "execution_count": 32,
   "metadata": {},
   "outputs": [
    {
     "name": "stdout",
     "output_type": "stream",
     "text": [
      "Grid Written to HTML\n"
     ]
    }
   ],
   "source": [
    "printCell = 0\n",
    "printRow = 0\n",
    "printCol = 1\n",
    "\n",
    "f = open('table.html', 'w')\n",
    "f.write('<html>\\n<head>\\n')\n",
    "f.write('\\t<style>\\n')\n",
    "f.write('\\t\\thtml { font-family: monospace; }\\n\\t\\ttable td { font-size: 9pt; border: 1px solid black; padding: 5px; }\\n')\n",
    "f.write('\\t</style>\\n')\n",
    "f.write('</head>\\n<body>\\n')\n",
    "f.write('<table>\\n\\t<tr>\\n')\n",
    "\n",
    "for cell in GRID:\n",
    "  cellHTML = '\\t\\t<td>' + cell + '</td>\\n'\n",
    "  f.write(cellHTML)\n",
    "\n",
    "  if printCol // GRIDCOLS == 0:\n",
    "    printCol += 1\n",
    "  else:\n",
    "    f.write('\\t</tr>\\n\\t<tr>\\n')\n",
    "    printCol = 1\n",
    "    printRow += 1\n",
    "  printCell += 1\n",
    "f.write('\\t</tr>\\n</table>\\n</body>\\n</html>')\n",
    "f.close()\n",
    "print('Grid Written to HTML')"
   ]
  },
  {
   "cell_type": "code",
   "execution_count": 33,
   "metadata": {},
   "outputs": [],
   "source": [
    "f = open('wordlist.json', 'w')\n",
    "f.write(json.dumps(WORDLIST))\n",
    "# for value in WORDLIST:\n",
    "#   f.write(value)\n",
    "f.close()\n",
    "\n",
    "f = open('grid.txt', 'w')\n",
    "for value in GRID:\n",
    "  f.write(value)\n",
    "f.close()"
   ]
  }
 ],
 "metadata": {
  "kernelspec": {
   "display_name": "Python 3.9.12 ('base')",
   "language": "python",
   "name": "python3"
  },
  "language_info": {
   "codemirror_mode": {
    "name": "ipython",
    "version": 3
   },
   "file_extension": ".py",
   "mimetype": "text/x-python",
   "name": "python",
   "nbconvert_exporter": "python",
   "pygments_lexer": "ipython3",
   "version": "3.9.12"
  },
  "orig_nbformat": 4,
  "vscode": {
   "interpreter": {
    "hash": "c5e883e7997fa9319a3e29d57deaf4a1c0fb2d9724297243de68d6a7cf16076a"
   }
  }
 },
 "nbformat": 4,
 "nbformat_minor": 2
}
